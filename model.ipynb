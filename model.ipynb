{
  "nbformat": 4,
  "nbformat_minor": 0,
  "metadata": {
    "colab": {
      "provenance": []
    },
    "kernelspec": {
      "name": "python3",
      "display_name": "Python 3"
    },
    "language_info": {
      "name": "python"
    }
  },
  "cells": [
    {
      "cell_type": "code",
      "execution_count": null,
      "metadata": {
        "id": "N_Ma8a6K69z-"
      },
      "outputs": [],
      "source": [
        "import numpy\n",
        "from tensorflow import keras\n",
        "from keras import utils as np_utils\n",
        "from keras.models import Sequential\n",
        "from keras.layers import Dense, Dropout, Flatten, BatchNormalization, Activation\n",
        "import keras.layers as layers\n",
        "from keras.layers import Conv2D, MaxPooling2D\n",
        "from keras.constraints import max_norm as maxnorm\n",
        "from tensorflow import keras\n",
        "from keras import utils as np_utils"
      ]
    },
    {
      "cell_type": "code",
      "source": [
        "# Set random seed for purposes of reproducibility\n",
        "seed = 21"
      ],
      "metadata": {
        "id": "YjHBSasA6-9C"
      },
      "execution_count": null,
      "outputs": []
    },
    {
      "cell_type": "code",
      "source": [
        "from keras.datasets import cifar10"
      ],
      "metadata": {
        "id": "3ru3wJMg6-_p"
      },
      "execution_count": null,
      "outputs": []
    },
    {
      "cell_type": "code",
      "source": [
        "# loading in the data\n",
        "(X_train, y_train), (X_test, y_test) = cifar10.load_data()"
      ],
      "metadata": {
        "id": "psEw9UcG6_Bj"
      },
      "execution_count": null,
      "outputs": []
    },
    {
      "cell_type": "code",
      "source": [
        "# normalize the inputs from 0-255 to between 0 and 1 by dividing by 255\n",
        "X_train = X_train.astype('float32')\n",
        "X_test = X_test.astype('float32')\n",
        "X_train = X_train / 255.0\n",
        "X_test = X_test / 255.0"
      ],
      "metadata": {
        "id": "IYi4wMuG6_D1"
      },
      "execution_count": null,
      "outputs": []
    },
    {
      "cell_type": "code",
      "source": [
        "# one hot encode outputs\n",
        "y_train = np_utils.to_categorical(y_train)\n",
        "y_test = np_utils.to_categorical(y_test)\n",
        "class_num = y_test.shape[1]"
      ],
      "metadata": {
        "id": "8y6E5cqN6_F0"
      },
      "execution_count": null,
      "outputs": []
    },
    {
      "cell_type": "code",
      "source": [
        "model = Sequential()"
      ],
      "metadata": {
        "id": "VfPoHZPSeNQE"
      },
      "execution_count": null,
      "outputs": []
    },
    {
      "cell_type": "code",
      "source": [
        "model.add(Conv2D(32, (3, 3), input_shape=X_train.shape[1:], padding='same'))\n",
        "model.add(Activation('relu'))"
      ],
      "metadata": {
        "id": "OJggsZ8r7LFz"
      },
      "execution_count": null,
      "outputs": []
    },
    {
      "cell_type": "code",
      "source": [
        "model.add(Dropout(0.2))"
      ],
      "metadata": {
        "id": "8zbqX8bX7LIY"
      },
      "execution_count": null,
      "outputs": []
    },
    {
      "cell_type": "code",
      "source": [
        "model.add(BatchNormalization())"
      ],
      "metadata": {
        "id": "yGHEVAnk7LL6"
      },
      "execution_count": null,
      "outputs": []
    },
    {
      "cell_type": "code",
      "source": [
        "model.add(Conv2D(64, (3, 3), padding='same'))\n",
        "model.add(Activation('relu'))"
      ],
      "metadata": {
        "id": "P6r7bov46_H7"
      },
      "execution_count": null,
      "outputs": []
    },
    {
      "cell_type": "code",
      "source": [
        "model.add(MaxPooling2D(pool_size=(2, 2)))\n",
        "model.add(Dropout(0.2))\n",
        "model.add(BatchNormalization())"
      ],
      "metadata": {
        "id": "gbYNzZ5r6_J9"
      },
      "execution_count": null,
      "outputs": []
    },
    {
      "cell_type": "code",
      "source": [
        "model.add(Conv2D(64, (3, 3), padding='same'))\n",
        "model.add(Activation('relu'))\n",
        "model.add(MaxPooling2D(pool_size=(2, 2)))\n",
        "model.add(Dropout(0.2))\n",
        "model.add(BatchNormalization())\n",
        "model.add(Conv2D(128, (3, 3), padding='same'))\n",
        "model.add(Activation('relu'))\n",
        "model.add(Dropout(0.2))\n",
        "model.add(BatchNormalization())"
      ],
      "metadata": {
        "id": "D-PE2h4j7Tpj"
      },
      "execution_count": null,
      "outputs": []
    },
    {
      "cell_type": "code",
      "source": [
        "model.add(Flatten())\n",
        "model.add(Dropout(0.2))"
      ],
      "metadata": {
        "id": "uRwCdLY77TsQ"
      },
      "execution_count": null,
      "outputs": []
    },
    {
      "cell_type": "code",
      "source": [
        "model.add(Dense(256, kernel_constraint=maxnorm(3)))\n",
        "model.add(Activation('relu'))\n",
        "model.add(Dropout(0.2))\n",
        "model.add(BatchNormalization())\n",
        "model.add(Dense(128, kernel_constraint=maxnorm(3)))\n",
        "model.add(Activation('relu'))\n",
        "model.add(Dropout(0.2))\n",
        "model.add(BatchNormalization())"
      ],
      "metadata": {
        "id": "EepyockQ7We0"
      },
      "execution_count": null,
      "outputs": []
    },
    {
      "cell_type": "code",
      "source": [
        "model.add(Dense(class_num))\n",
        "model.add(Activation('softmax'))"
      ],
      "metadata": {
        "id": "QNp9w6z07WhU"
      },
      "execution_count": null,
      "outputs": []
    },
    {
      "cell_type": "code",
      "source": [
        "epochs = 25\n",
        "optimizer = 'adam'"
      ],
      "metadata": {
        "id": "BcfknMsW7Wjy"
      },
      "execution_count": null,
      "outputs": []
    },
    {
      "cell_type": "code",
      "source": [
        "model.compile(loss='categorical_crossentropy', optimizer=optimizer, metrics=['accuracy'])"
      ],
      "metadata": {
        "id": "tOR-7Eq_7Wl7"
      },
      "execution_count": null,
      "outputs": []
    },
    {
      "cell_type": "code",
      "source": [
        "print(model.summary())"
      ],
      "metadata": {
        "colab": {
          "base_uri": "https://localhost:8080/"
        },
        "id": "921ngD3F7TvE",
        "outputId": "aeec8359-7a2c-41d9-c8d1-96cafed27540"
      },
      "execution_count": null,
      "outputs": [
        {
          "output_type": "stream",
          "name": "stdout",
          "text": [
            "Model: \"sequential\"\n",
            "_________________________________________________________________\n",
            " Layer (type)                Output Shape              Param #   \n",
            "=================================================================\n",
            " conv2d (Conv2D)             (None, 32, 32, 32)        896       \n",
            "                                                                 \n",
            " activation (Activation)     (None, 32, 32, 32)        0         \n",
            "                                                                 \n",
            " dropout (Dropout)           (None, 32, 32, 32)        0         \n",
            "                                                                 \n",
            " batch_normalization (Batch  (None, 32, 32, 32)        128       \n",
            " Normalization)                                                  \n",
            "                                                                 \n",
            " conv2d_1 (Conv2D)           (None, 32, 32, 64)        18496     \n",
            "                                                                 \n",
            " activation_1 (Activation)   (None, 32, 32, 64)        0         \n",
            "                                                                 \n",
            " max_pooling2d (MaxPooling2  (None, 16, 16, 64)        0         \n",
            " D)                                                              \n",
            "                                                                 \n",
            " dropout_1 (Dropout)         (None, 16, 16, 64)        0         \n",
            "                                                                 \n",
            " batch_normalization_1 (Bat  (None, 16, 16, 64)        256       \n",
            " chNormalization)                                                \n",
            "                                                                 \n",
            " conv2d_2 (Conv2D)           (None, 16, 16, 64)        36928     \n",
            "                                                                 \n",
            " activation_2 (Activation)   (None, 16, 16, 64)        0         \n",
            "                                                                 \n",
            " max_pooling2d_1 (MaxPoolin  (None, 8, 8, 64)          0         \n",
            " g2D)                                                            \n",
            "                                                                 \n",
            " dropout_2 (Dropout)         (None, 8, 8, 64)          0         \n",
            "                                                                 \n",
            " batch_normalization_2 (Bat  (None, 8, 8, 64)          256       \n",
            " chNormalization)                                                \n",
            "                                                                 \n",
            " conv2d_3 (Conv2D)           (None, 8, 8, 128)         73856     \n",
            "                                                                 \n",
            " activation_3 (Activation)   (None, 8, 8, 128)         0         \n",
            "                                                                 \n",
            " dropout_3 (Dropout)         (None, 8, 8, 128)         0         \n",
            "                                                                 \n",
            " batch_normalization_3 (Bat  (None, 8, 8, 128)         512       \n",
            " chNormalization)                                                \n",
            "                                                                 \n",
            " flatten (Flatten)           (None, 8192)              0         \n",
            "                                                                 \n",
            " dropout_4 (Dropout)         (None, 8192)              0         \n",
            "                                                                 \n",
            " dense (Dense)               (None, 256)               2097408   \n",
            "                                                                 \n",
            " activation_4 (Activation)   (None, 256)               0         \n",
            "                                                                 \n",
            " dropout_5 (Dropout)         (None, 256)               0         \n",
            "                                                                 \n",
            " batch_normalization_4 (Bat  (None, 256)               1024      \n",
            " chNormalization)                                                \n",
            "                                                                 \n",
            " dense_1 (Dense)             (None, 128)               32896     \n",
            "                                                                 \n",
            " activation_5 (Activation)   (None, 128)               0         \n",
            "                                                                 \n",
            " dropout_6 (Dropout)         (None, 128)               0         \n",
            "                                                                 \n",
            " batch_normalization_5 (Bat  (None, 128)               512       \n",
            " chNormalization)                                                \n",
            "                                                                 \n",
            " dense_2 (Dense)             (None, 10)                1290      \n",
            "                                                                 \n",
            " activation_6 (Activation)   (None, 10)                0         \n",
            "                                                                 \n",
            "=================================================================\n",
            "Total params: 2264458 (8.64 MB)\n",
            "Trainable params: 2263114 (8.63 MB)\n",
            "Non-trainable params: 1344 (5.25 KB)\n",
            "_________________________________________________________________\n",
            "None\n"
          ]
        }
      ]
    },
    {
      "cell_type": "code",
      "source": [
        "numpy.random.seed(seed)\n",
        "model.fit(X_train, y_train, validation_data=(X_test, y_test), epochs=epochs, batch_size=64)"
      ],
      "metadata": {
        "colab": {
          "base_uri": "https://localhost:8080/"
        },
        "id": "LfTAfWTB6_MK",
        "outputId": "6b4db55f-c4d0-4c56-f783-c638946f0839"
      },
      "execution_count": null,
      "outputs": [
        {
          "output_type": "stream",
          "name": "stdout",
          "text": [
            "Epoch 1/25\n",
            "782/782 [==============================] - 449s 570ms/step - loss: 1.5254 - accuracy: 0.4578 - val_loss: 1.0817 - val_accuracy: 0.6143\n",
            "Epoch 2/25\n",
            "782/782 [==============================] - 437s 559ms/step - loss: 1.0272 - accuracy: 0.6363 - val_loss: 0.8492 - val_accuracy: 0.7030\n",
            "Epoch 3/25\n",
            "782/782 [==============================] - 431s 551ms/step - loss: 0.8558 - accuracy: 0.7003 - val_loss: 0.7990 - val_accuracy: 0.7154\n",
            "Epoch 4/25\n",
            "782/782 [==============================] - 429s 548ms/step - loss: 0.7602 - accuracy: 0.7331 - val_loss: 0.6780 - val_accuracy: 0.7633\n",
            "Epoch 5/25\n",
            "782/782 [==============================] - 428s 547ms/step - loss: 0.7039 - accuracy: 0.7525 - val_loss: 0.6855 - val_accuracy: 0.7664\n",
            "Epoch 6/25\n",
            "782/782 [==============================] - 425s 544ms/step - loss: 0.6652 - accuracy: 0.7664 - val_loss: 0.6377 - val_accuracy: 0.7816\n",
            "Epoch 7/25\n",
            "782/782 [==============================] - 422s 540ms/step - loss: 0.6270 - accuracy: 0.7820 - val_loss: 0.7097 - val_accuracy: 0.7562\n",
            "Epoch 8/25\n",
            "782/782 [==============================] - 427s 546ms/step - loss: 0.5982 - accuracy: 0.7927 - val_loss: 0.7016 - val_accuracy: 0.7551\n",
            "Epoch 9/25\n",
            "782/782 [==============================] - 426s 545ms/step - loss: 0.5760 - accuracy: 0.7999 - val_loss: 0.6289 - val_accuracy: 0.7849\n",
            "Epoch 10/25\n",
            "782/782 [==============================] - 412s 527ms/step - loss: 0.5565 - accuracy: 0.8074 - val_loss: 0.5828 - val_accuracy: 0.7976\n",
            "Epoch 11/25\n",
            "782/782 [==============================] - 412s 527ms/step - loss: 0.5385 - accuracy: 0.8098 - val_loss: 0.6245 - val_accuracy: 0.7883\n",
            "Epoch 12/25\n",
            "782/782 [==============================] - 412s 527ms/step - loss: 0.5216 - accuracy: 0.8172 - val_loss: 0.5603 - val_accuracy: 0.8120\n",
            "Epoch 13/25\n",
            "782/782 [==============================] - 411s 526ms/step - loss: 0.5105 - accuracy: 0.8217 - val_loss: 0.5298 - val_accuracy: 0.8203\n",
            "Epoch 14/25\n",
            "782/782 [==============================] - 412s 527ms/step - loss: 0.4883 - accuracy: 0.8313 - val_loss: 0.5601 - val_accuracy: 0.8083\n",
            "Epoch 15/25\n",
            "782/782 [==============================] - 413s 528ms/step - loss: 0.4862 - accuracy: 0.8311 - val_loss: 0.6062 - val_accuracy: 0.7963\n",
            "Epoch 16/25\n",
            "782/782 [==============================] - 413s 529ms/step - loss: 0.4762 - accuracy: 0.8330 - val_loss: 0.5542 - val_accuracy: 0.8128\n",
            "Epoch 17/25\n",
            "782/782 [==============================] - 412s 527ms/step - loss: 0.4630 - accuracy: 0.8388 - val_loss: 0.5369 - val_accuracy: 0.8182\n",
            "Epoch 18/25\n",
            "782/782 [==============================] - 412s 527ms/step - loss: 0.4585 - accuracy: 0.8418 - val_loss: 0.5634 - val_accuracy: 0.8091\n",
            "Epoch 19/25\n",
            "782/782 [==============================] - 414s 530ms/step - loss: 0.4503 - accuracy: 0.8410 - val_loss: 0.5395 - val_accuracy: 0.8211\n",
            "Epoch 20/25\n",
            "782/782 [==============================] - 417s 533ms/step - loss: 0.4453 - accuracy: 0.8444 - val_loss: 0.5015 - val_accuracy: 0.8309\n",
            "Epoch 21/25\n",
            "782/782 [==============================] - 419s 536ms/step - loss: 0.4405 - accuracy: 0.8444 - val_loss: 0.5093 - val_accuracy: 0.8237\n",
            "Epoch 22/25\n",
            "782/782 [==============================] - 419s 536ms/step - loss: 0.4311 - accuracy: 0.8502 - val_loss: 0.5473 - val_accuracy: 0.8164\n",
            "Epoch 23/25\n",
            "782/782 [==============================] - 414s 530ms/step - loss: 0.4235 - accuracy: 0.8524 - val_loss: 0.5292 - val_accuracy: 0.8226\n",
            "Epoch 24/25\n",
            "782/782 [==============================] - 413s 528ms/step - loss: 0.4190 - accuracy: 0.8524 - val_loss: 0.5070 - val_accuracy: 0.8282\n",
            "Epoch 25/25\n",
            "782/782 [==============================] - 409s 523ms/step - loss: 0.4143 - accuracy: 0.8553 - val_loss: 0.5003 - val_accuracy: 0.8339\n"
          ]
        },
        {
          "output_type": "execute_result",
          "data": {
            "text/plain": [
              "<keras.src.callbacks.History at 0x7e906f4da8c0>"
            ]
          },
          "metadata": {},
          "execution_count": 20
        }
      ]
    },
    {
      "cell_type": "code",
      "source": [
        "# Model evaluation\n",
        "scores = model.evaluate(X_test, y_test, verbose=0)\n",
        "print(\"Accuracy: %.2f%%\" % (scores[1]*100))+"
      ],
      "metadata": {
        "colab": {
          "base_uri": "https://localhost:8080/"
        },
        "id": "C821ZOiU76e5",
        "outputId": "0b6a3aa3-cc8c-46b5-f1f5-02f07b03606a"
      },
      "execution_count": null,
      "outputs": [
        {
          "output_type": "stream",
          "name": "stdout",
          "text": [
            "Accuracy: 83.39%\n"
          ]
        }
      ]
    },
    {
      "cell_type": "code",
      "source": [],
      "metadata": {
        "id": "mbNPCxiElykA"
      },
      "execution_count": null,
      "outputs": []
    },
    {
      "cell_type": "code",
      "source": [],
      "metadata": {
        "id": "WBrdcBvelymo"
      },
      "execution_count": null,
      "outputs": []
    }
  ]
}